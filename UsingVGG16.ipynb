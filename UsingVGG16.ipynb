{
 "cells": [
  {
   "cell_type": "code",
   "execution_count": 1,
   "id": "bf6803d2",
   "metadata": {},
   "outputs": [],
   "source": [
    "import pandas as pd\n",
    "import tensorflow as tf"
   ]
  },
  {
   "cell_type": "code",
   "execution_count": 2,
   "id": "63431e55",
   "metadata": {},
   "outputs": [],
   "source": [
    "import os\n",
    "train_path = os.path.join('dataset', \"train\")\n",
    "test_path = os.path.join('dataset', \"test\")"
   ]
  },
  {
   "cell_type": "code",
   "execution_count": 3,
   "id": "9a508fac",
   "metadata": {},
   "outputs": [],
   "source": [
    "#Setting the image height and width\n",
    "IMG_HEIGHT = 224\n",
    "IMG_WIDTH = 224\n",
    "BATCH_SIZE = 32"
   ]
  },
  {
   "cell_type": "code",
   "execution_count": 4,
   "id": "b8dd5db4",
   "metadata": {},
   "outputs": [
    {
     "name": "stdout",
     "output_type": "stream",
     "text": [
      "Found 51120 files belonging to 12 classes.\n"
     ]
    }
   ],
   "source": [
    "#resizing the images in train directory\n",
    "train_dataset = tf.keras.utils.image_dataset_from_directory(\n",
    "    train_path,\n",
    "    image_size=(IMG_HEIGHT, IMG_WIDTH),\n",
    "    batch_size=BATCH_SIZE\n",
    ")"
   ]
  },
  {
   "cell_type": "code",
   "execution_count": 5,
   "id": "05872127",
   "metadata": {},
   "outputs": [
    {
     "name": "stdout",
     "output_type": "stream",
     "text": [
      "Found 3106 files belonging to 12 classes.\n"
     ]
    }
   ],
   "source": [
    "#resizing the images in test directory\n",
    "test_dataset = tf.keras.utils.image_dataset_from_directory(\n",
    "    test_path,\n",
    "    image_size=(IMG_HEIGHT, IMG_WIDTH),\n",
    "    batch_size=BATCH_SIZE\n",
    ")"
   ]
  },
  {
   "cell_type": "code",
   "execution_count": 11,
   "id": "4e7fe331",
   "metadata": {},
   "outputs": [
    {
     "data": {
      "text/html": [
       "<div>\n",
       "<style scoped>\n",
       "    .dataframe tbody tr th:only-of-type {\n",
       "        vertical-align: middle;\n",
       "    }\n",
       "\n",
       "    .dataframe tbody tr th {\n",
       "        vertical-align: top;\n",
       "    }\n",
       "\n",
       "    .dataframe thead th {\n",
       "        text-align: right;\n",
       "    }\n",
       "</style>\n",
       "<table border=\"1\" class=\"dataframe\">\n",
       "  <thead>\n",
       "    <tr style=\"text-align: right;\">\n",
       "      <th></th>\n",
       "      <th>filename</th>\n",
       "      <th>class</th>\n",
       "    </tr>\n",
       "  </thead>\n",
       "  <tbody>\n",
       "    <tr>\n",
       "      <th>0</th>\n",
       "      <td>paper_aug_799.jpg</td>\n",
       "      <td>paper</td>\n",
       "    </tr>\n",
       "    <tr>\n",
       "      <th>1</th>\n",
       "      <td>paper_aug_941.jpg</td>\n",
       "      <td>paper</td>\n",
       "    </tr>\n",
       "    <tr>\n",
       "      <th>2</th>\n",
       "      <td>paper_aug_2694.jpg</td>\n",
       "      <td>paper</td>\n",
       "    </tr>\n",
       "    <tr>\n",
       "      <th>3</th>\n",
       "      <td>paper_aug_2858.jpg</td>\n",
       "      <td>paper</td>\n",
       "    </tr>\n",
       "    <tr>\n",
       "      <th>4</th>\n",
       "      <td>paper_aug_955.jpg</td>\n",
       "      <td>paper</td>\n",
       "    </tr>\n",
       "    <tr>\n",
       "      <th>...</th>\n",
       "      <td>...</td>\n",
       "      <td>...</td>\n",
       "    </tr>\n",
       "    <tr>\n",
       "      <th>51115</th>\n",
       "      <td>shoes_aug_1030.jpg</td>\n",
       "      <td>shoes</td>\n",
       "    </tr>\n",
       "    <tr>\n",
       "      <th>51116</th>\n",
       "      <td>shoes_aug_1024.jpg</td>\n",
       "      <td>shoes</td>\n",
       "    </tr>\n",
       "    <tr>\n",
       "      <th>51117</th>\n",
       "      <td>shoes_aug_907.jpg</td>\n",
       "      <td>shoes</td>\n",
       "    </tr>\n",
       "    <tr>\n",
       "      <th>51118</th>\n",
       "      <td>shoes526.jpg</td>\n",
       "      <td>shoes</td>\n",
       "    </tr>\n",
       "    <tr>\n",
       "      <th>51119</th>\n",
       "      <td>shoes_aug_1742.jpg</td>\n",
       "      <td>shoes</td>\n",
       "    </tr>\n",
       "  </tbody>\n",
       "</table>\n",
       "<p>51120 rows × 2 columns</p>\n",
       "</div>"
      ],
      "text/plain": [
       "                 filename  class\n",
       "0       paper_aug_799.jpg  paper\n",
       "1       paper_aug_941.jpg  paper\n",
       "2      paper_aug_2694.jpg  paper\n",
       "3      paper_aug_2858.jpg  paper\n",
       "4       paper_aug_955.jpg  paper\n",
       "...                   ...    ...\n",
       "51115  shoes_aug_1030.jpg  shoes\n",
       "51116  shoes_aug_1024.jpg  shoes\n",
       "51117   shoes_aug_907.jpg  shoes\n",
       "51118        shoes526.jpg  shoes\n",
       "51119  shoes_aug_1742.jpg  shoes\n",
       "\n",
       "[51120 rows x 2 columns]"
      ]
     },
     "execution_count": 11,
     "metadata": {},
     "output_type": "execute_result"
    }
   ],
   "source": [
    "train_df = pd.DataFrame(columns=['filename','class'])\n",
    "for i in os.listdir('dataset/train'):\n",
    "    filepath='dataset/train/'+i\n",
    "    for j in os.listdir(filepath):\n",
    "        train_data = pd.DataFrame({'filename':[j], 'class':[i]})\n",
    "        #print(train_data)\n",
    "        train_df = pd.concat([train_df,train_data], ignore_index=True)\n",
    "train_df"
   ]
  },
  {
   "cell_type": "code",
   "execution_count": 11,
   "id": "9c0a009e-2459-48e3-bc15-1075972575b0",
   "metadata": {},
   "outputs": [
    {
     "data": {
      "text/plain": [
       "['paper',\n",
       " 'green-glass',\n",
       " 'clothes',\n",
       " 'metal',\n",
       " 'cardboard',\n",
       " 'trash',\n",
       " 'biological',\n",
       " 'white-glass',\n",
       " 'battery',\n",
       " 'brown-glass',\n",
       " 'plastic',\n",
       " 'shoes']"
      ]
     },
     "execution_count": 11,
     "metadata": {},
     "output_type": "execute_result"
    }
   ],
   "source": [
    "os.listdir('dataset/train')"
   ]
  },
  {
   "cell_type": "code",
   "execution_count": null,
   "id": "d5cc5bfa-595c-4c83-9172-41a64659fc28",
   "metadata": {},
   "outputs": [],
   "source": [
    "train_dict = {}\n",
    "for i in os.listdir('dataset/train'):\n",
    "    filepath='dataset/train/'+i\n",
    "    lst=[]\n",
    "    for j in os.listdir(filepath):\n",
    "        lst.append(j)\n",
    "    train_dict[i] = lst\n",
    "train_dict"
   ]
  },
  {
   "cell_type": "code",
   "execution_count": 15,
   "id": "8f66335d-e878-4134-bd4f-012e8e7e9b4a",
   "metadata": {},
   "outputs": [
    {
     "data": {
      "text/plain": [
       "4260"
      ]
     },
     "execution_count": 15,
     "metadata": {},
     "output_type": "execute_result"
    }
   ],
   "source": [
    "len(train_dict['paper'])"
   ]
  },
  {
   "cell_type": "code",
   "execution_count": 17,
   "id": "5e061ba5",
   "metadata": {},
   "outputs": [
    {
     "data": {
      "text/html": [
       "<div>\n",
       "<style scoped>\n",
       "    .dataframe tbody tr th:only-of-type {\n",
       "        vertical-align: middle;\n",
       "    }\n",
       "\n",
       "    .dataframe tbody tr th {\n",
       "        vertical-align: top;\n",
       "    }\n",
       "\n",
       "    .dataframe thead th {\n",
       "        text-align: right;\n",
       "    }\n",
       "</style>\n",
       "<table border=\"1\" class=\"dataframe\">\n",
       "  <thead>\n",
       "    <tr style=\"text-align: right;\">\n",
       "      <th></th>\n",
       "      <th>filename</th>\n",
       "      <th>class</th>\n",
       "    </tr>\n",
       "  </thead>\n",
       "  <tbody>\n",
       "    <tr>\n",
       "      <th>0</th>\n",
       "      <td>paper283.jpg</td>\n",
       "      <td>paper</td>\n",
       "    </tr>\n",
       "    <tr>\n",
       "      <th>1</th>\n",
       "      <td>paper526.jpg</td>\n",
       "      <td>paper</td>\n",
       "    </tr>\n",
       "    <tr>\n",
       "      <th>2</th>\n",
       "      <td>paper485.jpg</td>\n",
       "      <td>paper</td>\n",
       "    </tr>\n",
       "    <tr>\n",
       "      <th>3</th>\n",
       "      <td>paper452.jpg</td>\n",
       "      <td>paper</td>\n",
       "    </tr>\n",
       "    <tr>\n",
       "      <th>4</th>\n",
       "      <td>paper320.jpg</td>\n",
       "      <td>paper</td>\n",
       "    </tr>\n",
       "    <tr>\n",
       "      <th>...</th>\n",
       "      <td>...</td>\n",
       "      <td>...</td>\n",
       "    </tr>\n",
       "    <tr>\n",
       "      <th>3101</th>\n",
       "      <td>shoes1428.jpg</td>\n",
       "      <td>shoes</td>\n",
       "    </tr>\n",
       "    <tr>\n",
       "      <th>3102</th>\n",
       "      <td>shoes32.jpg</td>\n",
       "      <td>shoes</td>\n",
       "    </tr>\n",
       "    <tr>\n",
       "      <th>3103</th>\n",
       "      <td>shoes254.jpg</td>\n",
       "      <td>shoes</td>\n",
       "    </tr>\n",
       "    <tr>\n",
       "      <th>3104</th>\n",
       "      <td>shoes240.jpg</td>\n",
       "      <td>shoes</td>\n",
       "    </tr>\n",
       "    <tr>\n",
       "      <th>3105</th>\n",
       "      <td>shoes1399.jpg</td>\n",
       "      <td>shoes</td>\n",
       "    </tr>\n",
       "  </tbody>\n",
       "</table>\n",
       "<p>3106 rows × 2 columns</p>\n",
       "</div>"
      ],
      "text/plain": [
       "           filename  class\n",
       "0      paper283.jpg  paper\n",
       "1      paper526.jpg  paper\n",
       "2      paper485.jpg  paper\n",
       "3      paper452.jpg  paper\n",
       "4      paper320.jpg  paper\n",
       "...             ...    ...\n",
       "3101  shoes1428.jpg  shoes\n",
       "3102    shoes32.jpg  shoes\n",
       "3103   shoes254.jpg  shoes\n",
       "3104   shoes240.jpg  shoes\n",
       "3105  shoes1399.jpg  shoes\n",
       "\n",
       "[3106 rows x 2 columns]"
      ]
     },
     "execution_count": 17,
     "metadata": {},
     "output_type": "execute_result"
    }
   ],
   "source": [
    "test_df = pd.DataFrame(columns=['filename','class'])\n",
    "for i in os.listdir('dataset/test'):\n",
    "    filepath='dataset/test/'+i\n",
    "    for j in os.listdir(filepath):\n",
    "        test_data = pd.DataFrame({'filename':[j], 'class':[i]})\n",
    "        test_df = pd.concat([test_df,test_data], ignore_index=True)\n",
    "test_df"
   ]
  },
  {
   "cell_type": "code",
   "execution_count": 19,
   "id": "b7f8e829",
   "metadata": {},
   "outputs": [],
   "source": [
    "from tensorflow.keras.layers import Dense, Conv2D, MaxPooling2D, Flatten, Dropout, BatchNormalization, GlobalAveragePooling2D\n",
    "from tensorflow.keras.models import Sequential\n",
    "from tensorflow.keras.regularizers import l2"
   ]
  },
  {
   "cell_type": "code",
   "execution_count": 21,
   "id": "d0771ef0",
   "metadata": {},
   "outputs": [],
   "source": [
    "from tensorflow.keras.applications import VGG16\n",
    "\n",
    "# Load VGG16 pre-trained on ImageNet without the top (classification) layers\n",
    "base_model = VGG16(weights='imagenet', include_top=False, input_shape=(224, 224, 3))"
   ]
  },
  {
   "cell_type": "code",
   "execution_count": 23,
   "id": "e388aeb9",
   "metadata": {},
   "outputs": [],
   "source": [
    "# Freeze the convolutional base so that weights should not get updated during back propogation\n",
    "#The convolutional layers of VGG16 have already learned generic features\n",
    "#(like edges, textures, and patterns) from the ImageNet dataset.\n",
    "for layer in base_model.layers:\n",
    "    layer.trainable = False"
   ]
  },
  {
   "cell_type": "markdown",
   "id": "bbea1304-e622-41fb-83fa-6d7b30d65a4d",
   "metadata": {},
   "source": [
    "# Need to augment the particular classes and not all classes to balance the data"
   ]
  },
  {
   "cell_type": "code",
   "execution_count": 26,
   "id": "9dc139f5-98e0-42bc-975c-34fd9a607172",
   "metadata": {},
   "outputs": [
    {
     "data": {
      "text/plain": [
       "['battery',\n",
       " 'biological',\n",
       " 'brown-glass',\n",
       " 'cardboard',\n",
       " 'clothes',\n",
       " 'green-glass',\n",
       " 'metal',\n",
       " 'paper',\n",
       " 'plastic',\n",
       " 'shoes',\n",
       " 'trash',\n",
       " 'white-glass']"
      ]
     },
     "execution_count": 26,
     "metadata": {},
     "output_type": "execute_result"
    }
   ],
   "source": [
    "train_labels = train_dataset.class_names\n",
    "train_labels"
   ]
  },
  {
   "cell_type": "code",
   "execution_count": 28,
   "id": "24cdb75b-3127-4b63-9ec6-622008780e79",
   "metadata": {},
   "outputs": [
    {
     "name": "stdout",
     "output_type": "stream",
     "text": [
      "{'battery': 4260, 'biological': 4260, 'brown-glass': 4260, 'cardboard': 4260, 'clothes': 4260, 'green-glass': 4260, 'metal': 4260, 'paper': 4260, 'plastic': 4260, 'shoes': 4260, 'trash': 4260, 'white-glass': 4260}\n"
     ]
    }
   ],
   "source": [
    "#counting total number of images in each class.\n",
    "train_count = {}\n",
    "for label in train_labels:\n",
    "    label_path = os.path.join('dataset/train', label)\n",
    "    count = len(os.listdir(label_path))\n",
    "    train_count[label] = count\n",
    "\n",
    "print(train_count)"
   ]
  },
  {
   "cell_type": "code",
   "execution_count": 30,
   "id": "d6767a44-03e9-44ec-a349-71b77d686311",
   "metadata": {},
   "outputs": [
    {
     "name": "stdout",
     "output_type": "stream",
     "text": [
      "Class Weights: {0: 1.0, 1: 1.0, 2: 1.0, 3: 1.0, 4: 1.0, 5: 1.0, 6: 1.0, 7: 1.0, 8: 1.0, 9: 1.0, 10: 1.0, 11: 1.0}\n"
     ]
    }
   ],
   "source": [
    "import numpy as np\n",
    "from sklearn.utils.class_weight import compute_class_weight\n",
    "classes = np.array(list(train_count.keys()))\n",
    "samples_per_class = np.array(list(train_count.values()))\n",
    "class_weights = compute_class_weight(\n",
    "    class_weight='balanced',\n",
    "    classes=np.arange(len(classes)),  # Provide class indices\n",
    "    y=np.concatenate([\n",
    "        np.full(count, idx) for idx, count in enumerate(samples_per_class)\n",
    "    ])\n",
    ")\n",
    "# Convert to a dictionary for Keras\n",
    "class_weight_dict = {i: weight for i, weight in enumerate(class_weights)}\n",
    "print(\"Class Weights:\", class_weight_dict)"
   ]
  },
  {
   "cell_type": "code",
   "execution_count": null,
   "id": "cc7f4c19-7ebf-48a9-874e-4fb743b62330",
   "metadata": {},
   "outputs": [],
   "source": [
    "!pip install opencv-python"
   ]
  },
  {
   "cell_type": "code",
   "execution_count": 75,
   "id": "7568ce80-4bb6-46b0-a9e5-112378f87fcc",
   "metadata": {
    "scrolled": true
   },
   "outputs": [
    {
     "name": "stdout",
     "output_type": "stream",
     "text": [
      "stopped\n"
     ]
    }
   ],
   "source": [
    "from tensorflow.keras.preprocessing.image import ImageDataGenerator\n",
    "import numpy as np\n",
    "import cv2\n",
    "\n",
    "# Target number of images per class (equal to the majority class, clothes)\n",
    "target_count = train_count['clothes']\n",
    "\n",
    "# Data augmentation settings\n",
    "data_augmentation = ImageDataGenerator(\n",
    "    rotation_range=30,\n",
    "    width_shift_range=0.2,\n",
    "    height_shift_range=0.2,\n",
    "    shear_range=0.2,\n",
    "    zoom_range=0.2,\n",
    "    horizontal_flip=True,\n",
    "    fill_mode='nearest'\n",
    ")\n",
    "\n",
    "# Augment classes except for 'clothes'\n",
    "for class_name, images in train_dict.items():\n",
    "    if class_name == 'clothes':\n",
    "        continue\n",
    "\n",
    "    current_count = train_count[class_name]\n",
    "    additional_count = target_count - current_count\n",
    "    num=0\n",
    "\n",
    "    if additional_count > 0:\n",
    "        augmented_images = []\n",
    "        # Generate augmented images\n",
    "        images = [str(img) for img in images if img is not None]\n",
    "        for img in images:\n",
    "            #print(img)\n",
    "            #print('dataset/train/'+class_name+'/'+img)\n",
    "            img = cv2.imread(os.path.join('dataset/train/',class_name,img))\n",
    "            #print(img)\n",
    "            img = cv2.resize(img, (224, 224))\n",
    "            #img = img.reshape((1,) + img.shape)\n",
    "            img = np.expand_dims(img, axis=0)  # Add batch dimension\n",
    "            augmented_batch = data_augmentation.flow(img, batch_size=1)\n",
    "            for _ in range(additional_count // len(images) + 1):\n",
    "                augmented_img = next(augmented_batch)[0]\n",
    "                num+=1\n",
    "                save_path = os.path.join('dataset/train/',class_name, f\"{class_name}_aug_{num}.jpg\")\n",
    "                cv2.imwrite(save_path, augmented_img)\n",
    "                augmented_images.append(augmented_img)\n",
    "                if len(augmented_images) >= additional_count:\n",
    "                    break\n",
    "\n",
    "            if len(augmented_images) >= additional_count:\n",
    "                break\n",
    "\n",
    "        # Add augmented images to the dataset\n",
    "        train_dict[class_name].extend(augmented_images)\n",
    "\n",
    "# Now train_dataset contains augmented images for minority classes\n",
    "print('stopped')"
   ]
  },
  {
   "cell_type": "code",
   "execution_count": 32,
   "id": "222bb1c1-30ac-46f5-97d4-3254e3a02dbd",
   "metadata": {},
   "outputs": [
    {
     "name": "stdout",
     "output_type": "stream",
     "text": [
      "{'battery': 4260, 'biological': 4260, 'brown-glass': 4260, 'cardboard': 4260, 'clothes': 4260, 'green-glass': 4260, 'metal': 4260, 'paper': 4260, 'plastic': 4260, 'shoes': 4260, 'trash': 4260, 'white-glass': 4260}\n"
     ]
    }
   ],
   "source": [
    "#counting total number of images in each class.\n",
    "train_count = {}\n",
    "for label in train_labels:\n",
    "    label_path = os.path.join('dataset/train', label)\n",
    "    count = len(os.listdir(label_path))\n",
    "    train_count[label] = count\n",
    "\n",
    "print(train_count)"
   ]
  },
  {
   "cell_type": "code",
   "execution_count": 34,
   "id": "c5ec6daf-ec29-4a36-9268-cbc32ec51f23",
   "metadata": {},
   "outputs": [
    {
     "name": "stdout",
     "output_type": "stream",
     "text": [
      "Class Weights: {0: 1.3678350970017636, 1: 1.312288494077834, 2: 2.13213058419244, 3: 1.4523642322097379, 4: 0.24274256651017215, 5: 2.0558316766070246, 6: 1.6814363143631437, 7: 1.2310515873015873, 8: 1.494340077071291, 9: 0.6540691545435379, 10: 1.856523040095751, 11: 1.6678763440860216}\n"
     ]
    }
   ],
   "source": [
    "# Class Weights\n",
    "class_weight_dict = {0: 1.3678350970017636, 1: 1.312288494077834, 2: 2.13213058419244, \n",
    "                     3: 1.4523642322097379, 4: 0.24274256651017215, 5: 2.0558316766070246, \n",
    "                     6: 1.6814363143631437, 7: 1.2310515873015873, 8: 1.494340077071291, \n",
    "                     9: 0.6540691545435379, 10: 1.856523040095751, 11: 1.6678763440860216}\n",
    "print(\"Class Weights:\", class_weight_dict)"
   ]
  },
  {
   "cell_type": "code",
   "execution_count": 36,
   "id": "59c88864",
   "metadata": {},
   "outputs": [],
   "source": [
    "model = Sequential([\n",
    "    base_model,\n",
    "    BatchNormalization(),\n",
    "    GlobalAveragePooling2D(),\n",
    "    Dropout(0.3),\n",
    "    Flatten(),\n",
    "    BatchNormalization(),\n",
    "    Dropout(0.3),\n",
    "    Dense(256, activation='relu', kernel_regularizer=tf.keras.regularizers.l2(0.01)),\n",
    "    BatchNormalization(),\n",
    "    Dropout(0.3),\n",
    "    Dense(12, activation='softmax')  # Adjust to the number of your classes\n",
    "])"
   ]
  },
  {
   "cell_type": "code",
   "execution_count": 38,
   "id": "06fb2cb3",
   "metadata": {},
   "outputs": [],
   "source": [
    "lr_schedule = tf.keras.optimizers.schedules.ExponentialDecay(\n",
    "    initial_learning_rate=0.001,\n",
    "    decay_steps=10000,\n",
    "    decay_rate=0.9\n",
    ")\n",
    "optimizer = tf.keras.optimizers.Adam(learning_rate=lr_schedule)"
   ]
  },
  {
   "cell_type": "code",
   "execution_count": 40,
   "id": "9604d468",
   "metadata": {},
   "outputs": [],
   "source": [
    " model.compile(optimizer=optimizer,\n",
    "                  loss='sparse_categorical_crossentropy',\n",
    "                  metrics=['accuracy'])"
   ]
  },
  {
   "cell_type": "code",
   "execution_count": 42,
   "id": "43d7e177",
   "metadata": {},
   "outputs": [],
   "source": [
    "# Early stopping callback\n",
    "from tensorflow.keras.callbacks import EarlyStopping\n",
    "early_stopping = EarlyStopping(monitor='val_loss', patience=5, restore_best_weights=True)"
   ]
  },
  {
   "cell_type": "code",
   "execution_count": null,
   "id": "d785ad5d",
   "metadata": {},
   "outputs": [],
   "source": [
    "model.build(input_shape=(BATCH_SIZE, IMG_HEIGHT, IMG_WIDTH, 3))"
   ]
  },
  {
   "cell_type": "code",
   "execution_count": 44,
   "id": "8a446587",
   "metadata": {},
   "outputs": [
    {
     "data": {
      "text/html": [
       "<pre style=\"white-space:pre;overflow-x:auto;line-height:normal;font-family:Menlo,'DejaVu Sans Mono',consolas,'Courier New',monospace\"><span style=\"font-weight: bold\">Model: \"sequential\"</span>\n",
       "</pre>\n"
      ],
      "text/plain": [
       "\u001b[1mModel: \"sequential\"\u001b[0m\n"
      ]
     },
     "metadata": {},
     "output_type": "display_data"
    },
    {
     "data": {
      "text/html": [
       "<pre style=\"white-space:pre;overflow-x:auto;line-height:normal;font-family:Menlo,'DejaVu Sans Mono',consolas,'Courier New',monospace\">┏━━━━━━━━━━━━━━━━━━━━━━━━━━━━━━━━━┳━━━━━━━━━━━━━━━━━━━━━━━━┳━━━━━━━━━━━━━━━┓\n",
       "┃<span style=\"font-weight: bold\"> Layer (type)                    </span>┃<span style=\"font-weight: bold\"> Output Shape           </span>┃<span style=\"font-weight: bold\">       Param # </span>┃\n",
       "┡━━━━━━━━━━━━━━━━━━━━━━━━━━━━━━━━━╇━━━━━━━━━━━━━━━━━━━━━━━━╇━━━━━━━━━━━━━━━┩\n",
       "│ vgg16 (<span style=\"color: #0087ff; text-decoration-color: #0087ff\">Functional</span>)              │ (<span style=\"color: #00d7ff; text-decoration-color: #00d7ff\">None</span>, <span style=\"color: #00af00; text-decoration-color: #00af00\">7</span>, <span style=\"color: #00af00; text-decoration-color: #00af00\">7</span>, <span style=\"color: #00af00; text-decoration-color: #00af00\">512</span>)      │    <span style=\"color: #00af00; text-decoration-color: #00af00\">14,714,688</span> │\n",
       "├─────────────────────────────────┼────────────────────────┼───────────────┤\n",
       "│ batch_normalization             │ (<span style=\"color: #00d7ff; text-decoration-color: #00d7ff\">None</span>, <span style=\"color: #00af00; text-decoration-color: #00af00\">7</span>, <span style=\"color: #00af00; text-decoration-color: #00af00\">7</span>, <span style=\"color: #00af00; text-decoration-color: #00af00\">512</span>)      │         <span style=\"color: #00af00; text-decoration-color: #00af00\">2,048</span> │\n",
       "│ (<span style=\"color: #0087ff; text-decoration-color: #0087ff\">BatchNormalization</span>)            │                        │               │\n",
       "├─────────────────────────────────┼────────────────────────┼───────────────┤\n",
       "│ global_average_pooling2d        │ (<span style=\"color: #00d7ff; text-decoration-color: #00d7ff\">None</span>, <span style=\"color: #00af00; text-decoration-color: #00af00\">512</span>)            │             <span style=\"color: #00af00; text-decoration-color: #00af00\">0</span> │\n",
       "│ (<span style=\"color: #0087ff; text-decoration-color: #0087ff\">GlobalAveragePooling2D</span>)        │                        │               │\n",
       "├─────────────────────────────────┼────────────────────────┼───────────────┤\n",
       "│ dropout (<span style=\"color: #0087ff; text-decoration-color: #0087ff\">Dropout</span>)               │ (<span style=\"color: #00d7ff; text-decoration-color: #00d7ff\">None</span>, <span style=\"color: #00af00; text-decoration-color: #00af00\">512</span>)            │             <span style=\"color: #00af00; text-decoration-color: #00af00\">0</span> │\n",
       "├─────────────────────────────────┼────────────────────────┼───────────────┤\n",
       "│ flatten (<span style=\"color: #0087ff; text-decoration-color: #0087ff\">Flatten</span>)               │ (<span style=\"color: #00d7ff; text-decoration-color: #00d7ff\">None</span>, <span style=\"color: #00af00; text-decoration-color: #00af00\">512</span>)            │             <span style=\"color: #00af00; text-decoration-color: #00af00\">0</span> │\n",
       "├─────────────────────────────────┼────────────────────────┼───────────────┤\n",
       "│ batch_normalization_1           │ (<span style=\"color: #00d7ff; text-decoration-color: #00d7ff\">None</span>, <span style=\"color: #00af00; text-decoration-color: #00af00\">512</span>)            │         <span style=\"color: #00af00; text-decoration-color: #00af00\">2,048</span> │\n",
       "│ (<span style=\"color: #0087ff; text-decoration-color: #0087ff\">BatchNormalization</span>)            │                        │               │\n",
       "├─────────────────────────────────┼────────────────────────┼───────────────┤\n",
       "│ dropout_1 (<span style=\"color: #0087ff; text-decoration-color: #0087ff\">Dropout</span>)             │ (<span style=\"color: #00d7ff; text-decoration-color: #00d7ff\">None</span>, <span style=\"color: #00af00; text-decoration-color: #00af00\">512</span>)            │             <span style=\"color: #00af00; text-decoration-color: #00af00\">0</span> │\n",
       "├─────────────────────────────────┼────────────────────────┼───────────────┤\n",
       "│ dense (<span style=\"color: #0087ff; text-decoration-color: #0087ff\">Dense</span>)                   │ (<span style=\"color: #00d7ff; text-decoration-color: #00d7ff\">None</span>, <span style=\"color: #00af00; text-decoration-color: #00af00\">256</span>)            │       <span style=\"color: #00af00; text-decoration-color: #00af00\">131,328</span> │\n",
       "├─────────────────────────────────┼────────────────────────┼───────────────┤\n",
       "│ batch_normalization_2           │ (<span style=\"color: #00d7ff; text-decoration-color: #00d7ff\">None</span>, <span style=\"color: #00af00; text-decoration-color: #00af00\">256</span>)            │         <span style=\"color: #00af00; text-decoration-color: #00af00\">1,024</span> │\n",
       "│ (<span style=\"color: #0087ff; text-decoration-color: #0087ff\">BatchNormalization</span>)            │                        │               │\n",
       "├─────────────────────────────────┼────────────────────────┼───────────────┤\n",
       "│ dropout_2 (<span style=\"color: #0087ff; text-decoration-color: #0087ff\">Dropout</span>)             │ (<span style=\"color: #00d7ff; text-decoration-color: #00d7ff\">None</span>, <span style=\"color: #00af00; text-decoration-color: #00af00\">256</span>)            │             <span style=\"color: #00af00; text-decoration-color: #00af00\">0</span> │\n",
       "├─────────────────────────────────┼────────────────────────┼───────────────┤\n",
       "│ dense_1 (<span style=\"color: #0087ff; text-decoration-color: #0087ff\">Dense</span>)                 │ (<span style=\"color: #00d7ff; text-decoration-color: #00d7ff\">None</span>, <span style=\"color: #00af00; text-decoration-color: #00af00\">12</span>)             │         <span style=\"color: #00af00; text-decoration-color: #00af00\">3,084</span> │\n",
       "└─────────────────────────────────┴────────────────────────┴───────────────┘\n",
       "</pre>\n"
      ],
      "text/plain": [
       "┏━━━━━━━━━━━━━━━━━━━━━━━━━━━━━━━━━┳━━━━━━━━━━━━━━━━━━━━━━━━┳━━━━━━━━━━━━━━━┓\n",
       "┃\u001b[1m \u001b[0m\u001b[1mLayer (type)                   \u001b[0m\u001b[1m \u001b[0m┃\u001b[1m \u001b[0m\u001b[1mOutput Shape          \u001b[0m\u001b[1m \u001b[0m┃\u001b[1m \u001b[0m\u001b[1m      Param #\u001b[0m\u001b[1m \u001b[0m┃\n",
       "┡━━━━━━━━━━━━━━━━━━━━━━━━━━━━━━━━━╇━━━━━━━━━━━━━━━━━━━━━━━━╇━━━━━━━━━━━━━━━┩\n",
       "│ vgg16 (\u001b[38;5;33mFunctional\u001b[0m)              │ (\u001b[38;5;45mNone\u001b[0m, \u001b[38;5;34m7\u001b[0m, \u001b[38;5;34m7\u001b[0m, \u001b[38;5;34m512\u001b[0m)      │    \u001b[38;5;34m14,714,688\u001b[0m │\n",
       "├─────────────────────────────────┼────────────────────────┼───────────────┤\n",
       "│ batch_normalization             │ (\u001b[38;5;45mNone\u001b[0m, \u001b[38;5;34m7\u001b[0m, \u001b[38;5;34m7\u001b[0m, \u001b[38;5;34m512\u001b[0m)      │         \u001b[38;5;34m2,048\u001b[0m │\n",
       "│ (\u001b[38;5;33mBatchNormalization\u001b[0m)            │                        │               │\n",
       "├─────────────────────────────────┼────────────────────────┼───────────────┤\n",
       "│ global_average_pooling2d        │ (\u001b[38;5;45mNone\u001b[0m, \u001b[38;5;34m512\u001b[0m)            │             \u001b[38;5;34m0\u001b[0m │\n",
       "│ (\u001b[38;5;33mGlobalAveragePooling2D\u001b[0m)        │                        │               │\n",
       "├─────────────────────────────────┼────────────────────────┼───────────────┤\n",
       "│ dropout (\u001b[38;5;33mDropout\u001b[0m)               │ (\u001b[38;5;45mNone\u001b[0m, \u001b[38;5;34m512\u001b[0m)            │             \u001b[38;5;34m0\u001b[0m │\n",
       "├─────────────────────────────────┼────────────────────────┼───────────────┤\n",
       "│ flatten (\u001b[38;5;33mFlatten\u001b[0m)               │ (\u001b[38;5;45mNone\u001b[0m, \u001b[38;5;34m512\u001b[0m)            │             \u001b[38;5;34m0\u001b[0m │\n",
       "├─────────────────────────────────┼────────────────────────┼───────────────┤\n",
       "│ batch_normalization_1           │ (\u001b[38;5;45mNone\u001b[0m, \u001b[38;5;34m512\u001b[0m)            │         \u001b[38;5;34m2,048\u001b[0m │\n",
       "│ (\u001b[38;5;33mBatchNormalization\u001b[0m)            │                        │               │\n",
       "├─────────────────────────────────┼────────────────────────┼───────────────┤\n",
       "│ dropout_1 (\u001b[38;5;33mDropout\u001b[0m)             │ (\u001b[38;5;45mNone\u001b[0m, \u001b[38;5;34m512\u001b[0m)            │             \u001b[38;5;34m0\u001b[0m │\n",
       "├─────────────────────────────────┼────────────────────────┼───────────────┤\n",
       "│ dense (\u001b[38;5;33mDense\u001b[0m)                   │ (\u001b[38;5;45mNone\u001b[0m, \u001b[38;5;34m256\u001b[0m)            │       \u001b[38;5;34m131,328\u001b[0m │\n",
       "├─────────────────────────────────┼────────────────────────┼───────────────┤\n",
       "│ batch_normalization_2           │ (\u001b[38;5;45mNone\u001b[0m, \u001b[38;5;34m256\u001b[0m)            │         \u001b[38;5;34m1,024\u001b[0m │\n",
       "│ (\u001b[38;5;33mBatchNormalization\u001b[0m)            │                        │               │\n",
       "├─────────────────────────────────┼────────────────────────┼───────────────┤\n",
       "│ dropout_2 (\u001b[38;5;33mDropout\u001b[0m)             │ (\u001b[38;5;45mNone\u001b[0m, \u001b[38;5;34m256\u001b[0m)            │             \u001b[38;5;34m0\u001b[0m │\n",
       "├─────────────────────────────────┼────────────────────────┼───────────────┤\n",
       "│ dense_1 (\u001b[38;5;33mDense\u001b[0m)                 │ (\u001b[38;5;45mNone\u001b[0m, \u001b[38;5;34m12\u001b[0m)             │         \u001b[38;5;34m3,084\u001b[0m │\n",
       "└─────────────────────────────────┴────────────────────────┴───────────────┘\n"
      ]
     },
     "metadata": {},
     "output_type": "display_data"
    },
    {
     "data": {
      "text/html": [
       "<pre style=\"white-space:pre;overflow-x:auto;line-height:normal;font-family:Menlo,'DejaVu Sans Mono',consolas,'Courier New',monospace\"><span style=\"font-weight: bold\"> Total params: </span><span style=\"color: #00af00; text-decoration-color: #00af00\">14,854,220</span> (56.66 MB)\n",
       "</pre>\n"
      ],
      "text/plain": [
       "\u001b[1m Total params: \u001b[0m\u001b[38;5;34m14,854,220\u001b[0m (56.66 MB)\n"
      ]
     },
     "metadata": {},
     "output_type": "display_data"
    },
    {
     "data": {
      "text/html": [
       "<pre style=\"white-space:pre;overflow-x:auto;line-height:normal;font-family:Menlo,'DejaVu Sans Mono',consolas,'Courier New',monospace\"><span style=\"font-weight: bold\"> Trainable params: </span><span style=\"color: #00af00; text-decoration-color: #00af00\">136,972</span> (535.05 KB)\n",
       "</pre>\n"
      ],
      "text/plain": [
       "\u001b[1m Trainable params: \u001b[0m\u001b[38;5;34m136,972\u001b[0m (535.05 KB)\n"
      ]
     },
     "metadata": {},
     "output_type": "display_data"
    },
    {
     "data": {
      "text/html": [
       "<pre style=\"white-space:pre;overflow-x:auto;line-height:normal;font-family:Menlo,'DejaVu Sans Mono',consolas,'Courier New',monospace\"><span style=\"font-weight: bold\"> Non-trainable params: </span><span style=\"color: #00af00; text-decoration-color: #00af00\">14,717,248</span> (56.14 MB)\n",
       "</pre>\n"
      ],
      "text/plain": [
       "\u001b[1m Non-trainable params: \u001b[0m\u001b[38;5;34m14,717,248\u001b[0m (56.14 MB)\n"
      ]
     },
     "metadata": {},
     "output_type": "display_data"
    }
   ],
   "source": [
    "model.summary()"
   ]
  },
  {
   "cell_type": "code",
   "execution_count": 88,
   "id": "7e6e2945",
   "metadata": {},
   "outputs": [],
   "source": [
    "os.makedirs('modes_vgg')"
   ]
  },
  {
   "cell_type": "code",
   "execution_count": 46,
   "id": "80a2cbfa",
   "metadata": {},
   "outputs": [],
   "source": [
    "# Checkpoint highest accuracy\n",
    "#will save the best version of the model with highest accuracy\n",
    "checkpoint_high_acc = tf.keras.callbacks.ModelCheckpoint(\n",
    "    filepath=f\"{'modes'}/base_model_highest_accuracy.keras\",\n",
    "    monitor=\"val_accuracy\",\n",
    "    save_best_only=True,\n",
    "    mode=\"max\",\n",
    "    verbose=1\n",
    ")\n",
    "\n",
    "# Checkpoint lowest loss\n",
    "#will save the best version of the model with lowest loss\n",
    "checkpoint_low_loss = tf.keras.callbacks.ModelCheckpoint(\n",
    "    filepath=f\"{'modes'}/base_model_lowest_loss.keras\",\n",
    "    monitor=\"val_loss\",\n",
    "    save_best_only=True,\n",
    "    mode=\"min\",\n",
    "    verbose=1\n",
    ")"
   ]
  },
  {
   "cell_type": "code",
   "execution_count": 48,
   "id": "43604732-29ad-495d-b6f8-3f1123c39297",
   "metadata": {},
   "outputs": [
    {
     "name": "stdout",
     "output_type": "stream",
     "text": [
      "Start Time =  1737267834.9852319\n",
      "Epoch 1/50\n",
      "\u001b[1m1598/1598\u001b[0m \u001b[32m━━━━━━━━━━━━━━━━━━━━\u001b[0m\u001b[37m\u001b[0m \u001b[1m0s\u001b[0m 3s/step - accuracy: 0.6233 - loss: 3.8243\n",
      "Epoch 1: val_accuracy improved from -inf to 0.86768, saving model to modes/base_model_highest_accuracy.keras\n",
      "\n",
      "Epoch 1: val_loss improved from inf to 1.07440, saving model to modes/base_model_lowest_loss.keras\n",
      "\u001b[1m1598/1598\u001b[0m \u001b[32m━━━━━━━━━━━━━━━━━━━━\u001b[0m\u001b[37m\u001b[0m \u001b[1m4990s\u001b[0m 3s/step - accuracy: 0.6233 - loss: 3.8236 - val_accuracy: 0.8677 - val_loss: 1.0744\n",
      "Epoch 2/50\n",
      "\u001b[1m1598/1598\u001b[0m \u001b[32m━━━━━━━━━━━━━━━━━━━━\u001b[0m\u001b[37m\u001b[0m \u001b[1m0s\u001b[0m 3s/step - accuracy: 0.7549 - loss: 1.6441\n",
      "Epoch 2: val_accuracy did not improve from 0.86768\n",
      "\n",
      "Epoch 2: val_loss improved from 1.07440 to 0.96122, saving model to modes/base_model_lowest_loss.keras\n",
      "\u001b[1m1598/1598\u001b[0m \u001b[32m━━━━━━━━━━━━━━━━━━━━\u001b[0m\u001b[37m\u001b[0m \u001b[1m5088s\u001b[0m 3s/step - accuracy: 0.7549 - loss: 1.6441 - val_accuracy: 0.8677 - val_loss: 0.9612\n",
      "Epoch 3/50\n",
      "\u001b[1m1598/1598\u001b[0m \u001b[32m━━━━━━━━━━━━━━━━━━━━\u001b[0m\u001b[37m\u001b[0m \u001b[1m0s\u001b[0m 3s/step - accuracy: 0.7612 - loss: 1.5690\n",
      "Epoch 3: val_accuracy improved from 0.86768 to 0.87347, saving model to modes/base_model_highest_accuracy.keras\n",
      "\n",
      "Epoch 3: val_loss did not improve from 0.96122\n",
      "\u001b[1m1598/1598\u001b[0m \u001b[32m━━━━━━━━━━━━━━━━━━━━\u001b[0m\u001b[37m\u001b[0m \u001b[1m4863s\u001b[0m 3s/step - accuracy: 0.7612 - loss: 1.5690 - val_accuracy: 0.8735 - val_loss: 0.9658\n",
      "Epoch 4/50\n",
      "\u001b[1m1598/1598\u001b[0m \u001b[32m━━━━━━━━━━━━━━━━━━━━\u001b[0m\u001b[37m\u001b[0m \u001b[1m0s\u001b[0m 3s/step - accuracy: 0.7670 - loss: 1.5422\n",
      "Epoch 4: val_accuracy improved from 0.87347 to 0.89086, saving model to modes/base_model_highest_accuracy.keras\n",
      "\n",
      "Epoch 4: val_loss improved from 0.96122 to 0.91693, saving model to modes/base_model_lowest_loss.keras\n",
      "\u001b[1m1598/1598\u001b[0m \u001b[32m━━━━━━━━━━━━━━━━━━━━\u001b[0m\u001b[37m\u001b[0m \u001b[1m4894s\u001b[0m 3s/step - accuracy: 0.7670 - loss: 1.5422 - val_accuracy: 0.8909 - val_loss: 0.9169\n",
      "Epoch 5/50\n",
      "\u001b[1m1598/1598\u001b[0m \u001b[32m━━━━━━━━━━━━━━━━━━━━\u001b[0m\u001b[37m\u001b[0m \u001b[1m0s\u001b[0m 3s/step - accuracy: 0.7672 - loss: 1.5513\n",
      "Epoch 5: val_accuracy did not improve from 0.89086\n",
      "\n",
      "Epoch 5: val_loss did not improve from 0.91693\n",
      "\u001b[1m1598/1598\u001b[0m \u001b[32m━━━━━━━━━━━━━━━━━━━━\u001b[0m\u001b[37m\u001b[0m \u001b[1m4966s\u001b[0m 3s/step - accuracy: 0.7672 - loss: 1.5513 - val_accuracy: 0.8844 - val_loss: 0.9416\n",
      "Epoch 6/50\n",
      "\u001b[1m1598/1598\u001b[0m \u001b[32m━━━━━━━━━━━━━━━━━━━━\u001b[0m\u001b[37m\u001b[0m \u001b[1m0s\u001b[0m 3s/step - accuracy: 0.7663 - loss: 1.5471\n",
      "Epoch 6: val_accuracy did not improve from 0.89086\n",
      "\n",
      "Epoch 6: val_loss did not improve from 0.91693\n",
      "\u001b[1m1598/1598\u001b[0m \u001b[32m━━━━━━━━━━━━━━━━━━━━\u001b[0m\u001b[37m\u001b[0m \u001b[1m4992s\u001b[0m 3s/step - accuracy: 0.7663 - loss: 1.5471 - val_accuracy: 0.8789 - val_loss: 0.9246\n",
      "Epoch 7/50\n",
      "\u001b[1m1598/1598\u001b[0m \u001b[32m━━━━━━━━━━━━━━━━━━━━\u001b[0m\u001b[37m\u001b[0m \u001b[1m0s\u001b[0m 3s/step - accuracy: 0.7700 - loss: 1.5258\n",
      "Epoch 7: val_accuracy improved from 0.89086 to 0.89826, saving model to modes/base_model_highest_accuracy.keras\n",
      "\n",
      "Epoch 7: val_loss improved from 0.91693 to 0.86173, saving model to modes/base_model_lowest_loss.keras\n",
      "\u001b[1m1598/1598\u001b[0m \u001b[32m━━━━━━━━━━━━━━━━━━━━\u001b[0m\u001b[37m\u001b[0m \u001b[1m4961s\u001b[0m 3s/step - accuracy: 0.7700 - loss: 1.5258 - val_accuracy: 0.8983 - val_loss: 0.8617\n",
      "Epoch 8/50\n",
      "\u001b[1m1598/1598\u001b[0m \u001b[32m━━━━━━━━━━━━━━━━━━━━\u001b[0m\u001b[37m\u001b[0m \u001b[1m0s\u001b[0m 3s/step - accuracy: 0.7694 - loss: 1.5279\n",
      "Epoch 8: val_accuracy did not improve from 0.89826\n",
      "\n",
      "Epoch 8: val_loss did not improve from 0.86173\n",
      "\u001b[1m1598/1598\u001b[0m \u001b[32m━━━━━━━━━━━━━━━━━━━━\u001b[0m\u001b[37m\u001b[0m \u001b[1m4773s\u001b[0m 3s/step - accuracy: 0.7694 - loss: 1.5279 - val_accuracy: 0.8963 - val_loss: 0.8796\n",
      "Epoch 9/50\n",
      "\u001b[1m1598/1598\u001b[0m \u001b[32m━━━━━━━━━━━━━━━━━━━━\u001b[0m\u001b[37m\u001b[0m \u001b[1m0s\u001b[0m 3s/step - accuracy: 0.7733 - loss: 1.4986\n",
      "Epoch 9: val_accuracy improved from 0.89826 to 0.89858, saving model to modes/base_model_highest_accuracy.keras\n",
      "\n",
      "Epoch 9: val_loss did not improve from 0.86173\n",
      "\u001b[1m1598/1598\u001b[0m \u001b[32m━━━━━━━━━━━━━━━━━━━━\u001b[0m\u001b[37m\u001b[0m \u001b[1m4770s\u001b[0m 3s/step - accuracy: 0.7733 - loss: 1.4986 - val_accuracy: 0.8986 - val_loss: 0.8782\n",
      "Epoch 10/50\n",
      "\u001b[1m1598/1598\u001b[0m \u001b[32m━━━━━━━━━━━━━━━━━━━━\u001b[0m\u001b[37m\u001b[0m \u001b[1m0s\u001b[0m 3s/step - accuracy: 0.7773 - loss: 1.4928\n",
      "Epoch 10: val_accuracy did not improve from 0.89858\n",
      "\n",
      "Epoch 10: val_loss did not improve from 0.86173\n",
      "\u001b[1m1598/1598\u001b[0m \u001b[32m━━━━━━━━━━━━━━━━━━━━\u001b[0m\u001b[37m\u001b[0m \u001b[1m5556s\u001b[0m 3s/step - accuracy: 0.7773 - loss: 1.4928 - val_accuracy: 0.8960 - val_loss: 0.8698\n",
      "Epoch 11/50\n",
      "\u001b[1m1598/1598\u001b[0m \u001b[32m━━━━━━━━━━━━━━━━━━━━\u001b[0m\u001b[37m\u001b[0m \u001b[1m0s\u001b[0m 3s/step - accuracy: 0.7792 - loss: 1.4683\n",
      "Epoch 11: val_accuracy did not improve from 0.89858\n",
      "\n",
      "Epoch 11: val_loss improved from 0.86173 to 0.85137, saving model to modes/base_model_lowest_loss.keras\n",
      "\u001b[1m1598/1598\u001b[0m \u001b[32m━━━━━━━━━━━━━━━━━━━━\u001b[0m\u001b[37m\u001b[0m \u001b[1m5101s\u001b[0m 3s/step - accuracy: 0.7792 - loss: 1.4683 - val_accuracy: 0.8983 - val_loss: 0.8514\n",
      "Epoch 12/50\n",
      "\u001b[1m1598/1598\u001b[0m \u001b[32m━━━━━━━━━━━━━━━━━━━━\u001b[0m\u001b[37m\u001b[0m \u001b[1m0s\u001b[0m 3s/step - accuracy: 0.7780 - loss: 1.4738\n",
      "Epoch 12: val_accuracy did not improve from 0.89858\n",
      "\n",
      "Epoch 12: val_loss did not improve from 0.85137\n",
      "\u001b[1m1598/1598\u001b[0m \u001b[32m━━━━━━━━━━━━━━━━━━━━\u001b[0m\u001b[37m\u001b[0m \u001b[1m5006s\u001b[0m 3s/step - accuracy: 0.7780 - loss: 1.4738 - val_accuracy: 0.8979 - val_loss: 0.8641\n",
      "Epoch 13/50\n",
      "\u001b[1m1598/1598\u001b[0m \u001b[32m━━━━━━━━━━━━━━━━━━━━\u001b[0m\u001b[37m\u001b[0m \u001b[1m0s\u001b[0m 3s/step - accuracy: 0.7776 - loss: 1.4537\n",
      "Epoch 13: val_accuracy did not improve from 0.89858\n",
      "\n",
      "Epoch 13: val_loss did not improve from 0.85137\n",
      "\u001b[1m1598/1598\u001b[0m \u001b[32m━━━━━━━━━━━━━━━━━━━━\u001b[0m\u001b[37m\u001b[0m \u001b[1m5054s\u001b[0m 3s/step - accuracy: 0.7776 - loss: 1.4537 - val_accuracy: 0.8931 - val_loss: 0.8912\n",
      "Epoch 14/50\n",
      "\u001b[1m1598/1598\u001b[0m \u001b[32m━━━━━━━━━━━━━━━━━━━━\u001b[0m\u001b[37m\u001b[0m \u001b[1m0s\u001b[0m 3s/step - accuracy: 0.7803 - loss: 1.4569\n",
      "Epoch 14: val_accuracy did not improve from 0.89858\n",
      "\n",
      "Epoch 14: val_loss improved from 0.85137 to 0.83404, saving model to modes/base_model_lowest_loss.keras\n",
      "\u001b[1m1598/1598\u001b[0m \u001b[32m━━━━━━━━━━━━━━━━━━━━\u001b[0m\u001b[37m\u001b[0m \u001b[1m4972s\u001b[0m 3s/step - accuracy: 0.7803 - loss: 1.4568 - val_accuracy: 0.8986 - val_loss: 0.8340\n",
      "Epoch 15/50\n",
      "\u001b[1m1598/1598\u001b[0m \u001b[32m━━━━━━━━━━━━━━━━━━━━\u001b[0m\u001b[37m\u001b[0m \u001b[1m0s\u001b[0m 3s/step - accuracy: 0.7798 - loss: 1.4357\n",
      "Epoch 15: val_accuracy improved from 0.89858 to 0.89987, saving model to modes/base_model_highest_accuracy.keras\n",
      "\n",
      "Epoch 15: val_loss improved from 0.83404 to 0.81568, saving model to modes/base_model_lowest_loss.keras\n",
      "\u001b[1m1598/1598\u001b[0m \u001b[32m━━━━━━━━━━━━━━━━━━━━\u001b[0m\u001b[37m\u001b[0m \u001b[1m5017s\u001b[0m 3s/step - accuracy: 0.7798 - loss: 1.4357 - val_accuracy: 0.8999 - val_loss: 0.8157\n",
      "Epoch 16/50\n",
      "\u001b[1m1598/1598\u001b[0m \u001b[32m━━━━━━━━━━━━━━━━━━━━\u001b[0m\u001b[37m\u001b[0m \u001b[1m0s\u001b[0m 3s/step - accuracy: 0.7802 - loss: 1.4396\n",
      "Epoch 16: val_accuracy improved from 0.89987 to 0.90052, saving model to modes/base_model_highest_accuracy.keras\n",
      "\n",
      "Epoch 16: val_loss did not improve from 0.81568\n",
      "\u001b[1m1598/1598\u001b[0m \u001b[32m━━━━━━━━━━━━━━━━━━━━\u001b[0m\u001b[37m\u001b[0m \u001b[1m5185s\u001b[0m 3s/step - accuracy: 0.7802 - loss: 1.4396 - val_accuracy: 0.9005 - val_loss: 0.8206\n",
      "Epoch 17/50\n",
      "\u001b[1m1598/1598\u001b[0m \u001b[32m━━━━━━━━━━━━━━━━━━━━\u001b[0m\u001b[37m\u001b[0m \u001b[1m0s\u001b[0m 3s/step - accuracy: 0.7807 - loss: 1.4228\n",
      "Epoch 17: val_accuracy did not improve from 0.90052\n",
      "\n",
      "Epoch 17: val_loss did not improve from 0.81568\n",
      "\u001b[1m1598/1598\u001b[0m \u001b[32m━━━━━━━━━━━━━━━━━━━━\u001b[0m\u001b[37m\u001b[0m \u001b[1m4530s\u001b[0m 3s/step - accuracy: 0.7807 - loss: 1.4228 - val_accuracy: 0.8889 - val_loss: 0.8586\n",
      "Epoch 18/50\n",
      "\u001b[1m1598/1598\u001b[0m \u001b[32m━━━━━━━━━━━━━━━━━━━━\u001b[0m\u001b[37m\u001b[0m \u001b[1m0s\u001b[0m 3s/step - accuracy: 0.7832 - loss: 1.4135\n",
      "Epoch 18: val_accuracy improved from 0.90052 to 0.90856, saving model to modes/base_model_highest_accuracy.keras\n",
      "\n",
      "Epoch 18: val_loss improved from 0.81568 to 0.81419, saving model to modes/base_model_lowest_loss.keras\n",
      "\u001b[1m1598/1598\u001b[0m \u001b[32m━━━━━━━━━━━━━━━━━━━━\u001b[0m\u001b[37m\u001b[0m \u001b[1m4587s\u001b[0m 3s/step - accuracy: 0.7832 - loss: 1.4135 - val_accuracy: 0.9086 - val_loss: 0.8142\n",
      "Epoch 19/50\n",
      "\u001b[1m1598/1598\u001b[0m \u001b[32m━━━━━━━━━━━━━━━━━━━━\u001b[0m\u001b[37m\u001b[0m \u001b[1m0s\u001b[0m 3s/step - accuracy: 0.7818 - loss: 1.4106\n",
      "Epoch 19: val_accuracy did not improve from 0.90856\n",
      "\n",
      "Epoch 19: val_loss did not improve from 0.81419\n",
      "\u001b[1m1598/1598\u001b[0m \u001b[32m━━━━━━━━━━━━━━━━━━━━\u001b[0m\u001b[37m\u001b[0m \u001b[1m4509s\u001b[0m 3s/step - accuracy: 0.7818 - loss: 1.4105 - val_accuracy: 0.9044 - val_loss: 0.8144\n",
      "Epoch 20/50\n",
      "\u001b[1m1598/1598\u001b[0m \u001b[32m━━━━━━━━━━━━━━━━━━━━\u001b[0m\u001b[37m\u001b[0m \u001b[1m0s\u001b[0m 3s/step - accuracy: 0.7837 - loss: 1.3932\n",
      "Epoch 20: val_accuracy did not improve from 0.90856\n",
      "\n",
      "Epoch 20: val_loss improved from 0.81419 to 0.79824, saving model to modes/base_model_lowest_loss.keras\n",
      "\u001b[1m1598/1598\u001b[0m \u001b[32m━━━━━━━━━━━━━━━━━━━━\u001b[0m\u001b[37m\u001b[0m \u001b[1m4700s\u001b[0m 3s/step - accuracy: 0.7837 - loss: 1.3932 - val_accuracy: 0.9066 - val_loss: 0.7982\n",
      "Epoch 21/50\n",
      "\u001b[1m1598/1598\u001b[0m \u001b[32m━━━━━━━━━━━━━━━━━━━━\u001b[0m\u001b[37m\u001b[0m \u001b[1m0s\u001b[0m 3s/step - accuracy: 0.7866 - loss: 1.3997\n",
      "Epoch 21: val_accuracy did not improve from 0.90856\n",
      "\n",
      "Epoch 21: val_loss did not improve from 0.79824\n",
      "\u001b[1m1598/1598\u001b[0m \u001b[32m━━━━━━━━━━━━━━━━━━━━\u001b[0m\u001b[37m\u001b[0m \u001b[1m4769s\u001b[0m 3s/step - accuracy: 0.7866 - loss: 1.3997 - val_accuracy: 0.9021 - val_loss: 0.8044\n",
      "Epoch 22/50\n",
      "\u001b[1m1598/1598\u001b[0m \u001b[32m━━━━━━━━━━━━━━━━━━━━\u001b[0m\u001b[37m\u001b[0m \u001b[1m0s\u001b[0m 3s/step - accuracy: 0.7864 - loss: 1.3787\n",
      "Epoch 22: val_accuracy improved from 0.90856 to 0.91629, saving model to modes/base_model_highest_accuracy.keras\n",
      "\n",
      "Epoch 22: val_loss improved from 0.79824 to 0.77451, saving model to modes/base_model_lowest_loss.keras\n",
      "\u001b[1m1598/1598\u001b[0m \u001b[32m━━━━━━━━━━━━━━━━━━━━\u001b[0m\u001b[37m\u001b[0m \u001b[1m5577s\u001b[0m 3s/step - accuracy: 0.7864 - loss: 1.3787 - val_accuracy: 0.9163 - val_loss: 0.7745\n",
      "Epoch 23/50\n",
      "\u001b[1m1598/1598\u001b[0m \u001b[32m━━━━━━━━━━━━━━━━━━━━\u001b[0m\u001b[37m\u001b[0m \u001b[1m0s\u001b[0m 3s/step - accuracy: 0.7896 - loss: 1.3585\n",
      "Epoch 23: val_accuracy did not improve from 0.91629\n",
      "\n",
      "Epoch 23: val_loss improved from 0.77451 to 0.76982, saving model to modes/base_model_lowest_loss.keras\n",
      "\u001b[1m1598/1598\u001b[0m \u001b[32m━━━━━━━━━━━━━━━━━━━━\u001b[0m\u001b[37m\u001b[0m \u001b[1m5115s\u001b[0m 3s/step - accuracy: 0.7896 - loss: 1.3585 - val_accuracy: 0.9127 - val_loss: 0.7698\n",
      "Epoch 24/50\n",
      "\u001b[1m1598/1598\u001b[0m \u001b[32m━━━━━━━━━━━━━━━━━━━━\u001b[0m\u001b[37m\u001b[0m \u001b[1m0s\u001b[0m 3s/step - accuracy: 0.7901 - loss: 1.3576\n",
      "Epoch 24: val_accuracy did not improve from 0.91629\n",
      "\n",
      "Epoch 24: val_loss improved from 0.76982 to 0.76285, saving model to modes/base_model_lowest_loss.keras\n",
      "\u001b[1m1598/1598\u001b[0m \u001b[32m━━━━━━━━━━━━━━━━━━━━\u001b[0m\u001b[37m\u001b[0m \u001b[1m5009s\u001b[0m 3s/step - accuracy: 0.7901 - loss: 1.3576 - val_accuracy: 0.9089 - val_loss: 0.7628\n",
      "Epoch 25/50\n",
      "\u001b[1m1598/1598\u001b[0m \u001b[32m━━━━━━━━━━━━━━━━━━━━\u001b[0m\u001b[37m\u001b[0m \u001b[1m0s\u001b[0m 3s/step - accuracy: 0.7861 - loss: 1.3676\n",
      "Epoch 25: val_accuracy did not improve from 0.91629\n",
      "\n",
      "Epoch 25: val_loss did not improve from 0.76285\n",
      "\u001b[1m1598/1598\u001b[0m \u001b[32m━━━━━━━━━━━━━━━━━━━━\u001b[0m\u001b[37m\u001b[0m \u001b[1m4971s\u001b[0m 3s/step - accuracy: 0.7861 - loss: 1.3676 - val_accuracy: 0.9102 - val_loss: 0.7682\n",
      "Epoch 26/50\n",
      "\u001b[1m1598/1598\u001b[0m \u001b[32m━━━━━━━━━━━━━━━━━━━━\u001b[0m\u001b[37m\u001b[0m \u001b[1m0s\u001b[0m 3s/step - accuracy: 0.7909 - loss: 1.3351\n",
      "Epoch 26: val_accuracy did not improve from 0.91629\n",
      "\n",
      "Epoch 26: val_loss did not improve from 0.76285\n",
      "\u001b[1m1598/1598\u001b[0m \u001b[32m━━━━━━━━━━━━━━━━━━━━\u001b[0m\u001b[37m\u001b[0m \u001b[1m5173s\u001b[0m 3s/step - accuracy: 0.7909 - loss: 1.3351 - val_accuracy: 0.9041 - val_loss: 0.7845\n",
      "Epoch 27/50\n",
      "\u001b[1m1598/1598\u001b[0m \u001b[32m━━━━━━━━━━━━━━━━━━━━\u001b[0m\u001b[37m\u001b[0m \u001b[1m0s\u001b[0m 3s/step - accuracy: 0.7920 - loss: 1.3360\n",
      "Epoch 27: val_accuracy did not improve from 0.91629\n",
      "\n",
      "Epoch 27: val_loss did not improve from 0.76285\n",
      "\u001b[1m1598/1598\u001b[0m \u001b[32m━━━━━━━━━━━━━━━━━━━━\u001b[0m\u001b[37m\u001b[0m \u001b[1m5206s\u001b[0m 3s/step - accuracy: 0.7920 - loss: 1.3360 - val_accuracy: 0.8941 - val_loss: 0.7748\n",
      "Epoch 28/50\n",
      "\u001b[1m1598/1598\u001b[0m \u001b[32m━━━━━━━━━━━━━━━━━━━━\u001b[0m\u001b[37m\u001b[0m \u001b[1m0s\u001b[0m 3s/step - accuracy: 0.7920 - loss: 1.3343\n",
      "Epoch 28: val_accuracy did not improve from 0.91629\n",
      "\n",
      "Epoch 28: val_loss did not improve from 0.76285\n",
      "\u001b[1m1598/1598\u001b[0m \u001b[32m━━━━━━━━━━━━━━━━━━━━\u001b[0m\u001b[37m\u001b[0m \u001b[1m5057s\u001b[0m 3s/step - accuracy: 0.7920 - loss: 1.3343 - val_accuracy: 0.8960 - val_loss: 0.7848\n",
      "Epoch 29/50\n",
      "\u001b[1m1598/1598\u001b[0m \u001b[32m━━━━━━━━━━━━━━━━━━━━\u001b[0m\u001b[37m\u001b[0m \u001b[1m0s\u001b[0m 3s/step - accuracy: 0.7965 - loss: 1.3123\n",
      "Epoch 29: val_accuracy did not improve from 0.91629\n",
      "\n",
      "Epoch 29: val_loss did not improve from 0.76285\n",
      "\u001b[1m1598/1598\u001b[0m \u001b[32m━━━━━━━━━━━━━━━━━━━━\u001b[0m\u001b[37m\u001b[0m \u001b[1m5024s\u001b[0m 3s/step - accuracy: 0.7965 - loss: 1.3123 - val_accuracy: 0.8886 - val_loss: 0.8074\n",
      "End Time = 1737412251.007593\n"
     ]
    }
   ],
   "source": [
    "import time\n",
    "start_time = time.time()\n",
    "print('Start Time = ', start_time)\n",
    "history = model.fit(train_dataset, \n",
    "                    epochs=50, \n",
    "                    validation_data=test_dataset,\n",
    "                    callbacks=[checkpoint_high_acc, checkpoint_low_loss, early_stopping],\n",
    "                   class_weight=class_weight_dict)\n",
    "end_time = time.time()\n",
    "print('End Time =', end_time)"
   ]
  },
  {
   "cell_type": "code",
   "execution_count": 50,
   "id": "48d80745-2d2e-45e9-9bb6-e71289a44711",
   "metadata": {},
   "outputs": [
    {
     "name": "stdout",
     "output_type": "stream",
     "text": [
      "computational_time= 40.11556176695559 hours\n"
     ]
    }
   ],
   "source": [
    "print('computational_time=',(end_time-start_time)/3600,'hours')"
   ]
  },
  {
   "cell_type": "code",
   "execution_count": 52,
   "id": "e763762b-1586-44c0-8181-76dc76860fa4",
   "metadata": {
    "scrolled": true
   },
   "outputs": [
    {
     "data": {
      "image/png": "[encoded data removed]",
      "text/plain": [
       "<Figure size 1200x400 with 2 Axes>"
      ]
     },
     "metadata": {},
     "output_type": "display_data"
    }
   ],
   "source": [
    "import matplotlib.pyplot as plt\n",
    "train_acc = history.history[\"accuracy\"]\n",
    "val_acc = history.history[\"val_accuracy\"]\n",
    "train_loss = history.history[\"loss\"]\n",
    "val_loss = history.history[\"val_loss\"]\n",
    "\n",
    "fig, axs = plt.subplots(1, 2, figsize=(12,4))\n",
    "axs[0].plot(train_acc, label=\"train_acc\")\n",
    "axs[0].plot(val_acc, label=\"val_acc\")\n",
    "axs[0].set_title(\"Accuracy\")\n",
    "axs[0].legend()\n",
    "axs[1].plot(train_loss, label=\"train_loss\")\n",
    "axs[1].plot(val_loss, label=\"val_loss\")\n",
    "axs[1].set_title(\"Loss\")\n",
    "axs[1].legend()\n",
    "\n",
    "plt.tight_layout()\n",
    "plt.show()"
   ]
  },
  {
   "cell_type": "code",
   "execution_count": 58,
   "id": "9582820d-a05e-4e84-867a-50a1140cd5c9",
   "metadata": {},
   "outputs": [],
   "source": [
    "model.save('vgg16_augmented_model.keras')"
   ]
  },
  {
   "cell_type": "code",
   "execution_count": 62,
   "id": "34a96793-ee64-4ef8-8f68-5955a23a5536",
   "metadata": {},
   "outputs": [
    {
     "ename": "AttributeError",
     "evalue": "'NoneType' object has no attribute 'shape'",
     "output_type": "error",
     "traceback": [
      "\u001b[0;31m---------------------------------------------------------------------------\u001b[0m",
      "\u001b[0;31mAttributeError\u001b[0m                            Traceback (most recent call last)",
      "Cell \u001b[0;32mIn[62], line 1\u001b[0m\n\u001b[0;32m----> 1\u001b[0m model\u001b[38;5;241m.\u001b[39mevaluate()\n",
      "File \u001b[0;32m/opt/anaconda3/lib/python3.12/site-packages/keras/src/utils/traceback_utils.py:122\u001b[0m, in \u001b[0;36mfilter_traceback.<locals>.error_handler\u001b[0;34m(*args, **kwargs)\u001b[0m\n\u001b[1;32m    119\u001b[0m     filtered_tb \u001b[38;5;241m=\u001b[39m _process_traceback_frames(e\u001b[38;5;241m.\u001b[39m__traceback__)\n\u001b[1;32m    120\u001b[0m     \u001b[38;5;66;03m# To get the full stack trace, call:\u001b[39;00m\n\u001b[1;32m    121\u001b[0m     \u001b[38;5;66;03m# `keras.config.disable_traceback_filtering()`\u001b[39;00m\n\u001b[0;32m--> 122\u001b[0m     \u001b[38;5;28;01mraise\u001b[39;00m e\u001b[38;5;241m.\u001b[39mwith_traceback(filtered_tb) \u001b[38;5;28;01mfrom\u001b[39;00m \u001b[38;5;28;01mNone\u001b[39;00m\n\u001b[1;32m    123\u001b[0m \u001b[38;5;28;01mfinally\u001b[39;00m:\n\u001b[1;32m    124\u001b[0m     \u001b[38;5;28;01mdel\u001b[39;00m filtered_tb\n",
      "File \u001b[0;32m/opt/anaconda3/lib/python3.12/site-packages/keras/src/trainers/data_adapters/data_adapter_utils.py:104\u001b[0m, in \u001b[0;36m<genexpr>\u001b[0;34m(.0)\u001b[0m\n\u001b[1;32m    103\u001b[0m \u001b[38;5;28;01mdef\u001b[39;00m \u001b[38;5;21mcheck_data_cardinality\u001b[39m(data):\n\u001b[0;32m--> 104\u001b[0m     num_samples \u001b[38;5;241m=\u001b[39m \u001b[38;5;28mset\u001b[39m(\u001b[38;5;28mint\u001b[39m(i\u001b[38;5;241m.\u001b[39mshape[\u001b[38;5;241m0\u001b[39m]) \u001b[38;5;28;01mfor\u001b[39;00m i \u001b[38;5;129;01min\u001b[39;00m tree\u001b[38;5;241m.\u001b[39mflatten(data))\n\u001b[1;32m    105\u001b[0m     \u001b[38;5;28;01mif\u001b[39;00m \u001b[38;5;28mlen\u001b[39m(num_samples) \u001b[38;5;241m>\u001b[39m \u001b[38;5;241m1\u001b[39m:\n\u001b[1;32m    106\u001b[0m         msg \u001b[38;5;241m=\u001b[39m (\n\u001b[1;32m    107\u001b[0m             \u001b[38;5;124m\"\u001b[39m\u001b[38;5;124mData cardinality is ambiguous. \u001b[39m\u001b[38;5;124m\"\u001b[39m\n\u001b[1;32m    108\u001b[0m             \u001b[38;5;124m\"\u001b[39m\u001b[38;5;124mMake sure all arrays contain the same number of samples.\u001b[39m\u001b[38;5;124m\"\u001b[39m\n\u001b[1;32m    109\u001b[0m         )\n",
      "\u001b[0;31mAttributeError\u001b[0m: 'NoneType' object has no attribute 'shape'"
     ]
    }
   ],
   "source": [
    "model.evaluate()"
   ]
  },
  {
   "cell_type": "code",
   "execution_count": 103,
   "id": "fed68b90",
   "metadata": {},
   "outputs": [
    {
     "name": "stdout",
     "output_type": "stream",
     "text": [
      "Start Time =  1736946086.526046\n",
      "Epoch 1/50\n",
      "\u001b[1m388/388\u001b[0m \u001b[32m━━━━━━━━━━━━━━━━━━━━\u001b[0m\u001b[37m\u001b[0m \u001b[1m0s\u001b[0m 14s/step - accuracy: 0.5596 - loss: 4.5710 \n",
      "Epoch 1: val_accuracy improved from -inf to 0.87733, saving model to modes/base_model_highest_accuracy.keras\n",
      "\n",
      "Epoch 1: val_loss improved from inf to 2.00912, saving model to modes/base_model_lowest_loss.keras\n",
      "\u001b[1m388/388\u001b[0m \u001b[32m━━━━━━━━━━━━━━━━━━━━\u001b[0m\u001b[37m\u001b[0m \u001b[1m5686s\u001b[0m 15s/step - accuracy: 0.5600 - loss: 4.5686 - val_accuracy: 0.8773 - val_loss: 2.0091\n",
      "Epoch 2/50\n",
      "\u001b[1m388/388\u001b[0m \u001b[32m━━━━━━━━━━━━━━━━━━━━\u001b[0m\u001b[37m\u001b[0m \u001b[1m0s\u001b[0m 10s/step - accuracy: 0.7979 - loss: 2.1460 \n",
      "Epoch 2: val_accuracy improved from 0.87733 to 0.88796, saving model to modes/base_model_highest_accuracy.keras\n",
      "\n",
      "Epoch 2: val_loss improved from 2.00912 to 1.24992, saving model to modes/base_model_lowest_loss.keras\n",
      "\u001b[1m388/388\u001b[0m \u001b[32m━━━━━━━━━━━━━━━━━━━━\u001b[0m\u001b[37m\u001b[0m \u001b[1m6120s\u001b[0m 16s/step - accuracy: 0.7979 - loss: 2.1455 - val_accuracy: 0.8880 - val_loss: 1.2499\n",
      "Epoch 3/50\n",
      "\u001b[1m388/388\u001b[0m \u001b[32m━━━━━━━━━━━━━━━━━━━━\u001b[0m\u001b[37m\u001b[0m \u001b[1m0s\u001b[0m 3s/step - accuracy: 0.8029 - loss: 1.5448\n",
      "Epoch 3: val_accuracy improved from 0.88796 to 0.89214, saving model to modes/base_model_highest_accuracy.keras\n",
      "\n",
      "Epoch 3: val_loss improved from 1.24992 to 0.97026, saving model to modes/base_model_lowest_loss.keras\n",
      "\u001b[1m388/388\u001b[0m \u001b[32m━━━━━━━━━━━━━━━━━━━━\u001b[0m\u001b[37m\u001b[0m \u001b[1m1496s\u001b[0m 4s/step - accuracy: 0.8029 - loss: 1.5446 - val_accuracy: 0.8921 - val_loss: 0.9703\n",
      "Epoch 4/50\n",
      "\u001b[1m388/388\u001b[0m \u001b[32m━━━━━━━━━━━━━━━━━━━━\u001b[0m\u001b[37m\u001b[0m \u001b[1m0s\u001b[0m 3s/step - accuracy: 0.8199 - loss: 1.2975\n",
      "Epoch 4: val_accuracy improved from 0.89214 to 0.89891, saving model to modes/base_model_highest_accuracy.keras\n",
      "\n",
      "Epoch 4: val_loss improved from 0.97026 to 0.87469, saving model to modes/base_model_lowest_loss.keras\n",
      "\u001b[1m388/388\u001b[0m \u001b[32m━━━━━━━━━━━━━━━━━━━━\u001b[0m\u001b[37m\u001b[0m \u001b[1m1304s\u001b[0m 3s/step - accuracy: 0.8199 - loss: 1.2974 - val_accuracy: 0.8989 - val_loss: 0.8747\n",
      "Epoch 5/50\n",
      "\u001b[1m388/388\u001b[0m \u001b[32m━━━━━━━━━━━━━━━━━━━━\u001b[0m\u001b[37m\u001b[0m \u001b[1m0s\u001b[0m 4s/step - accuracy: 0.8166 - loss: 1.2276\n",
      "Epoch 5: val_accuracy improved from 0.89891 to 0.91082, saving model to modes/base_model_highest_accuracy.keras\n",
      "\n",
      "Epoch 5: val_loss improved from 0.87469 to 0.82792, saving model to modes/base_model_lowest_loss.keras\n",
      "\u001b[1m388/388\u001b[0m \u001b[32m━━━━━━━━━━━━━━━━━━━━\u001b[0m\u001b[37m\u001b[0m \u001b[1m1972s\u001b[0m 5s/step - accuracy: 0.8166 - loss: 1.2275 - val_accuracy: 0.9108 - val_loss: 0.8279\n",
      "Epoch 6/50\n",
      "\u001b[1m388/388\u001b[0m \u001b[32m━━━━━━━━━━━━━━━━━━━━\u001b[0m\u001b[37m\u001b[0m \u001b[1m0s\u001b[0m 3s/step - accuracy: 0.8240 - loss: 1.1757\n",
      "Epoch 6: val_accuracy did not improve from 0.91082\n",
      "\n",
      "Epoch 6: val_loss improved from 0.82792 to 0.79603, saving model to modes/base_model_lowest_loss.keras\n",
      "\u001b[1m388/388\u001b[0m \u001b[32m━━━━━━━━━━━━━━━━━━━━\u001b[0m\u001b[37m\u001b[0m \u001b[1m1473s\u001b[0m 4s/step - accuracy: 0.8240 - loss: 1.1757 - val_accuracy: 0.9066 - val_loss: 0.7960\n",
      "Epoch 7/50\n",
      "\u001b[1m388/388\u001b[0m \u001b[32m━━━━━━━━━━━━━━━━━━━━\u001b[0m\u001b[37m\u001b[0m \u001b[1m0s\u001b[0m 8s/step - accuracy: 0.8307 - loss: 1.1370\n",
      "Epoch 7: val_accuracy did not improve from 0.91082\n",
      "\n",
      "Epoch 7: val_loss did not improve from 0.79603\n",
      "\u001b[1m388/388\u001b[0m \u001b[32m━━━━━━━━━━━━━━━━━━━━\u001b[0m\u001b[37m\u001b[0m \u001b[1m3189s\u001b[0m 8s/step - accuracy: 0.8307 - loss: 1.1370 - val_accuracy: 0.9012 - val_loss: 0.8025\n",
      "Epoch 8/50\n",
      "\u001b[1m388/388\u001b[0m \u001b[32m━━━━━━━━━━━━━━━━━━━━\u001b[0m\u001b[37m\u001b[0m \u001b[1m0s\u001b[0m 124s/step - accuracy: 0.8216 - loss: 1.1360  \n",
      "Epoch 8: val_accuracy did not improve from 0.91082\n",
      "\n",
      "Epoch 8: val_loss improved from 0.79603 to 0.78852, saving model to modes/base_model_lowest_loss.keras\n",
      "\u001b[1m388/388\u001b[0m \u001b[32m━━━━━━━━━━━━━━━━━━━━\u001b[0m\u001b[37m\u001b[0m \u001b[1m48345s\u001b[0m 125s/step - accuracy: 0.8216 - loss: 1.1360 - val_accuracy: 0.9044 - val_loss: 0.7885\n",
      "Epoch 9/50\n",
      "\u001b[1m388/388\u001b[0m \u001b[32m━━━━━━━━━━━━━━━━━━━━\u001b[0m\u001b[37m\u001b[0m \u001b[1m0s\u001b[0m 3s/step - accuracy: 0.8233 - loss: 1.1070\n",
      "Epoch 9: val_accuracy did not improve from 0.91082\n",
      "\n",
      "Epoch 9: val_loss did not improve from 0.78852\n",
      "\u001b[1m388/388\u001b[0m \u001b[32m━━━━━━━━━━━━━━━━━━━━\u001b[0m\u001b[37m\u001b[0m \u001b[1m1265s\u001b[0m 3s/step - accuracy: 0.8233 - loss: 1.1070 - val_accuracy: 0.8999 - val_loss: 0.8079\n",
      "Epoch 10/50\n",
      "\u001b[1m388/388\u001b[0m \u001b[32m━━━━━━━━━━━━━━━━━━━━\u001b[0m\u001b[37m\u001b[0m \u001b[1m0s\u001b[0m 3s/step - accuracy: 0.8200 - loss: 1.1294\n",
      "Epoch 10: val_accuracy did not improve from 0.91082\n",
      "\n",
      "Epoch 10: val_loss improved from 0.78852 to 0.77124, saving model to modes/base_model_lowest_loss.keras\n",
      "\u001b[1m388/388\u001b[0m \u001b[32m━━━━━━━━━━━━━━━━━━━━\u001b[0m\u001b[37m\u001b[0m \u001b[1m1289s\u001b[0m 3s/step - accuracy: 0.8200 - loss: 1.1294 - val_accuracy: 0.9092 - val_loss: 0.7712\n",
      "Epoch 11/50\n",
      "\u001b[1m388/388\u001b[0m \u001b[32m━━━━━━━━━━━━━━━━━━━━\u001b[0m\u001b[37m\u001b[0m \u001b[1m0s\u001b[0m 3s/step - accuracy: 0.8263 - loss: 1.1202\n",
      "Epoch 11: val_accuracy did not improve from 0.91082\n",
      "\n",
      "Epoch 11: val_loss improved from 0.77124 to 0.76548, saving model to modes/base_model_lowest_loss.keras\n",
      "\u001b[1m388/388\u001b[0m \u001b[32m━━━━━━━━━━━━━━━━━━━━\u001b[0m\u001b[37m\u001b[0m \u001b[1m1284s\u001b[0m 3s/step - accuracy: 0.8263 - loss: 1.1202 - val_accuracy: 0.9099 - val_loss: 0.7655\n",
      "Epoch 12/50\n",
      "\u001b[1m388/388\u001b[0m \u001b[32m━━━━━━━━━━━━━━━━━━━━\u001b[0m\u001b[37m\u001b[0m \u001b[1m0s\u001b[0m 3s/step - accuracy: 0.8294 - loss: 1.1123\n",
      "Epoch 12: val_accuracy did not improve from 0.91082\n",
      "\n",
      "Epoch 12: val_loss did not improve from 0.76548\n",
      "\u001b[1m388/388\u001b[0m \u001b[32m━━━━━━━━━━━━━━━━━━━━\u001b[0m\u001b[37m\u001b[0m \u001b[1m1266s\u001b[0m 3s/step - accuracy: 0.8294 - loss: 1.1123 - val_accuracy: 0.9082 - val_loss: 0.7896\n",
      "Epoch 13/50\n",
      "\u001b[1m388/388\u001b[0m \u001b[32m━━━━━━━━━━━━━━━━━━━━\u001b[0m\u001b[37m\u001b[0m \u001b[1m0s\u001b[0m 3s/step - accuracy: 0.8316 - loss: 1.1133\n",
      "Epoch 13: val_accuracy did not improve from 0.91082\n",
      "\n",
      "Epoch 13: val_loss did not improve from 0.76548\n",
      "\u001b[1m388/388\u001b[0m \u001b[32m━━━━━━━━━━━━━━━━━━━━\u001b[0m\u001b[37m\u001b[0m \u001b[1m1282s\u001b[0m 3s/step - accuracy: 0.8316 - loss: 1.1133 - val_accuracy: 0.9073 - val_loss: 0.7945\n",
      "Epoch 14/50\n",
      "\u001b[1m388/388\u001b[0m \u001b[32m━━━━━━━━━━━━━━━━━━━━\u001b[0m\u001b[37m\u001b[0m \u001b[1m0s\u001b[0m 5s/step - accuracy: 0.8248 - loss: 1.1050\n",
      "Epoch 14: val_accuracy did not improve from 0.91082\n",
      "\n",
      "Epoch 14: val_loss did not improve from 0.76548\n",
      "\u001b[1m388/388\u001b[0m \u001b[32m━━━━━━━━━━━━━━━━━━━━\u001b[0m\u001b[37m\u001b[0m \u001b[1m2546s\u001b[0m 7s/step - accuracy: 0.8248 - loss: 1.1050 - val_accuracy: 0.8992 - val_loss: 0.7833\n",
      "Epoch 15/50\n",
      "\u001b[1m388/388\u001b[0m \u001b[32m━━━━━━━━━━━━━━━━━━━━\u001b[0m\u001b[37m\u001b[0m \u001b[1m0s\u001b[0m 3s/step - accuracy: 0.8330 - loss: 1.0821\n",
      "Epoch 15: val_accuracy did not improve from 0.91082\n",
      "\n",
      "Epoch 15: val_loss did not improve from 0.76548\n",
      "\u001b[1m388/388\u001b[0m \u001b[32m━━━━━━━━━━━━━━━━━━━━\u001b[0m\u001b[37m\u001b[0m \u001b[1m1305s\u001b[0m 3s/step - accuracy: 0.8330 - loss: 1.0821 - val_accuracy: 0.9082 - val_loss: 0.7725\n",
      "Epoch 16/50\n",
      "\u001b[1m388/388\u001b[0m \u001b[32m━━━━━━━━━━━━━━━━━━━━\u001b[0m\u001b[37m\u001b[0m \u001b[1m0s\u001b[0m 3s/step - accuracy: 0.8252 - loss: 1.1289\n",
      "Epoch 16: val_accuracy did not improve from 0.91082\n",
      "\n",
      "Epoch 16: val_loss did not improve from 0.76548\n",
      "\u001b[1m388/388\u001b[0m \u001b[32m━━━━━━━━━━━━━━━━━━━━\u001b[0m\u001b[37m\u001b[0m \u001b[1m1392s\u001b[0m 4s/step - accuracy: 0.8252 - loss: 1.1288 - val_accuracy: 0.9066 - val_loss: 0.7858\n",
      "End Time = 1737027301.38338\n"
     ]
    }
   ],
   "source": [
    "import time\n",
    "start_time = time.time()\n",
    "print('Start Time = ', start_time)\n",
    "history = model.fit(train_dataset, \n",
    "                    epochs=50, \n",
    "                    validation_data=test_dataset,\n",
    "                    callbacks=[checkpoint_high_acc, checkpoint_low_loss, early_stopping],\n",
    "                   class_weight=class_weight_dict)\n",
    "end_time = time.time()\n",
    "print('End Time =', end_time)"
   ]
  },
  {
   "cell_type": "code",
   "execution_count": 105,
   "id": "755f0409-851d-42c7-82f5-8378807f5556",
   "metadata": {},
   "outputs": [
    {
     "name": "stdout",
     "output_type": "stream",
     "text": [
      "computational_time= 22.559682592749596 hours\n"
     ]
    }
   ],
   "source": [
    "print('computational_time=',(end_time-start_time)/3600,'hours')"
   ]
  },
  {
   "cell_type": "code",
   "execution_count": null,
   "id": "96284880-2090-47bd-bf61-5c52cf90ee1d",
   "metadata": {},
   "outputs": [],
   "source": []
  },
  {
   "cell_type": "code",
   "execution_count": 107,
   "id": "465b8570",
   "metadata": {},
   "outputs": [
    {
     "data": {
      "image/png": "[encoded data removed]",
      "text/plain": [
       "<Figure size 1200x400 with 2 Axes>"
      ]
     },
     "metadata": {},
     "output_type": "display_data"
    }
   ],
   "source": [
    "import matplotlib.pyplot as plt\n",
    "train_acc = history.history[\"accuracy\"]\n",
    "val_acc = history.history[\"val_accuracy\"]\n",
    "train_loss = history.history[\"loss\"]\n",
    "val_loss = history.history[\"val_loss\"]\n",
    "\n",
    "fig, axs = plt.subplots(1, 2, figsize=(12,4))\n",
    "axs[0].plot(train_acc, label=\"train_acc\")\n",
    "axs[0].plot(val_acc, label=\"val_acc\")\n",
    "axs[0].set_title(\"Accuracy\")\n",
    "axs[0].legend()\n",
    "axs[1].plot(train_loss, label=\"train_loss\")\n",
    "axs[1].plot(val_loss, label=\"val_loss\")\n",
    "axs[1].set_title(\"Loss\")\n",
    "axs[1].legend()\n",
    "\n",
    "plt.tight_layout()\n",
    "plt.show()"
   ]
  },
  {
   "cell_type": "code",
   "execution_count": 111,
   "id": "6cc52b26-0916-47cb-ba69-09191c5edf12",
   "metadata": {},
   "outputs": [
    {
     "name": "stderr",
     "output_type": "stream",
     "text": [
      "WARNING:absl:You are saving your model as an HDF5 file via `model.save()` or `keras.saving.save_model(model)`. This file format is considered legacy. We recommend using instead the native Keras format, e.g. `model.save('my_model.keras')` or `keras.saving.save_model(model, 'my_model.keras')`. \n"
     ]
    }
   ],
   "source": [
    "model.save('vgg16_model.h5')"
   ]
  },
  {
   "cell_type": "code",
   "execution_count": 113,
   "id": "5d0f01c6-7d0a-4cc5-a641-e031591fa799",
   "metadata": {},
   "outputs": [
    {
     "ename": "AttributeError",
     "evalue": "'NoneType' object has no attribute 'shape'",
     "output_type": "error",
     "traceback": [
      "\u001b[0;31m---------------------------------------------------------------------------\u001b[0m",
      "\u001b[0;31mAttributeError\u001b[0m                            Traceback (most recent call last)",
      "Cell \u001b[0;32mIn[113], line 1\u001b[0m\n\u001b[0;32m----> 1\u001b[0m model\u001b[38;5;241m.\u001b[39mevaluate()\n",
      "File \u001b[0;32m/opt/anaconda3/lib/python3.12/site-packages/keras/src/utils/traceback_utils.py:122\u001b[0m, in \u001b[0;36mfilter_traceback.<locals>.error_handler\u001b[0;34m(*args, **kwargs)\u001b[0m\n\u001b[1;32m    119\u001b[0m     filtered_tb \u001b[38;5;241m=\u001b[39m _process_traceback_frames(e\u001b[38;5;241m.\u001b[39m__traceback__)\n\u001b[1;32m    120\u001b[0m     \u001b[38;5;66;03m# To get the full stack trace, call:\u001b[39;00m\n\u001b[1;32m    121\u001b[0m     \u001b[38;5;66;03m# `keras.config.disable_traceback_filtering()`\u001b[39;00m\n\u001b[0;32m--> 122\u001b[0m     \u001b[38;5;28;01mraise\u001b[39;00m e\u001b[38;5;241m.\u001b[39mwith_traceback(filtered_tb) \u001b[38;5;28;01mfrom\u001b[39;00m \u001b[38;5;28;01mNone\u001b[39;00m\n\u001b[1;32m    123\u001b[0m \u001b[38;5;28;01mfinally\u001b[39;00m:\n\u001b[1;32m    124\u001b[0m     \u001b[38;5;28;01mdel\u001b[39;00m filtered_tb\n",
      "File \u001b[0;32m/opt/anaconda3/lib/python3.12/site-packages/keras/src/trainers/data_adapters/data_adapter_utils.py:104\u001b[0m, in \u001b[0;36m<genexpr>\u001b[0;34m(.0)\u001b[0m\n\u001b[1;32m    103\u001b[0m \u001b[38;5;28;01mdef\u001b[39;00m \u001b[38;5;21mcheck_data_cardinality\u001b[39m(data):\n\u001b[0;32m--> 104\u001b[0m     num_samples \u001b[38;5;241m=\u001b[39m \u001b[38;5;28mset\u001b[39m(\u001b[38;5;28mint\u001b[39m(i\u001b[38;5;241m.\u001b[39mshape[\u001b[38;5;241m0\u001b[39m]) \u001b[38;5;28;01mfor\u001b[39;00m i \u001b[38;5;129;01min\u001b[39;00m tree\u001b[38;5;241m.\u001b[39mflatten(data))\n\u001b[1;32m    105\u001b[0m     \u001b[38;5;28;01mif\u001b[39;00m \u001b[38;5;28mlen\u001b[39m(num_samples) \u001b[38;5;241m>\u001b[39m \u001b[38;5;241m1\u001b[39m:\n\u001b[1;32m    106\u001b[0m         msg \u001b[38;5;241m=\u001b[39m (\n\u001b[1;32m    107\u001b[0m             \u001b[38;5;124m\"\u001b[39m\u001b[38;5;124mData cardinality is ambiguous. \u001b[39m\u001b[38;5;124m\"\u001b[39m\n\u001b[1;32m    108\u001b[0m             \u001b[38;5;124m\"\u001b[39m\u001b[38;5;124mMake sure all arrays contain the same number of samples.\u001b[39m\u001b[38;5;124m\"\u001b[39m\n\u001b[1;32m    109\u001b[0m         )\n",
      "\u001b[0;31mAttributeError\u001b[0m: 'NoneType' object has no attribute 'shape'"
     ]
    }
   ],
   "source": [
    "model.evaluate()"
   ]
  },
  {
   "cell_type": "code",
   "execution_count": null,
   "id": "7121d68a-b113-46bf-bd5e-40f3588b576f",
   "metadata": {},
   "outputs": [],
   "source": []
  }
 ],
 "metadata": {
  "kernelspec": {
   "display_name": "Python [conda env:base] *",
   "language": "python",
   "name": "conda-base-py"
  },
  "language_info": {
   "codemirror_mode": {
    "name": "ipython",
    "version": 3
   },
   "file_extension": ".py",
   "mimetype": "text/x-python",
   "name": "python",
   "nbconvert_exporter": "python",
   "pygments_lexer": "ipython3",
   "version": "3.12.7"
  }
 },
 "nbformat": 4,
 "nbformat_minor": 5
}
